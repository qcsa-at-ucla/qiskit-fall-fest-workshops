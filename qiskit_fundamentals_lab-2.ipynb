{
  "cells": [
    {
      "cell_type": "markdown",
      "metadata": {
        "id": "09yor9XbsxUp"
      },
      "source": [
        "# Qiskit 2 Fundamentals Lab\n",
        "\n",
        "Welcome to the Qiskit 2 Fundamentals Lab! This notebook is designed to help get up to speed on Qiskit 2 fundamentals by providing hands-on exercises for 18 core concepts.\n",
        "\n",
        "**Instructions:**\n",
        "1. Read the explanation for each concept.\n",
        "2. Complete the coding exercise in the designated cell.\n",
        "3. After attempting the exercise, you can check your answer in the _solutions notebook"
      ]
    },
    {
      "cell_type": "markdown",
      "metadata": {
        "id": "t0jHE-ZfsxUq"
      },
      "source": [
        "## Setup\n",
        "\n",
        "First, let's install and import the necessary libraries. Run the cell below."
      ]
    },
    {
      "cell_type": "code",
      "execution_count": 1,
      "metadata": {
        "id": "DpJ3m8dBsxUq"
      },
      "outputs": [
        {
          "name": "stdout",
          "output_type": "stream",
          "text": [
            "Collecting qiskit-ibm-runtime\n",
            "  Downloading qiskit_ibm_runtime-0.43.0-py3-none-any.whl.metadata (21 kB)\n",
            "Collecting qiskit-aer\n",
            "  Downloading qiskit_aer-0.17.2-cp311-cp311-win_amd64.whl.metadata (8.5 kB)\n",
            "Collecting qiskit_qasm3_import\n",
            "  Downloading qiskit_qasm3_import-0.6.0-py3-none-any.whl.metadata (7.2 kB)\n",
            "Collecting qiskit[visualization]\n",
            "  Downloading qiskit-2.2.1-cp39-abi3-win_amd64.whl.metadata (13 kB)\n",
            "Collecting rustworkx>=0.15.0 (from qiskit[visualization])\n",
            "  Downloading rustworkx-0.17.1-cp39-abi3-win_amd64.whl.metadata (10 kB)\n",
            "Requirement already satisfied: numpy<3,>=1.17 in c:\\python311\\lib\\site-packages (from qiskit[visualization]) (1.26.4)\n",
            "Requirement already satisfied: scipy>=1.5 in c:\\python311\\lib\\site-packages (from qiskit[visualization]) (1.12.0)\n",
            "Collecting dill>=0.3 (from qiskit[visualization])\n",
            "  Using cached dill-0.4.0-py3-none-any.whl.metadata (10 kB)\n",
            "Collecting stevedore>=3.0.0 (from qiskit[visualization])\n",
            "  Downloading stevedore-5.5.0-py3-none-any.whl.metadata (2.2 kB)\n",
            "Collecting typing-extensions (from qiskit[visualization])\n",
            "  Using cached typing_extensions-4.15.0-py3-none-any.whl.metadata (3.3 kB)\n",
            "Requirement already satisfied: matplotlib>=3.3 in c:\\users\\bryce\\appdata\\roaming\\python\\python311\\site-packages (from qiskit[visualization]) (3.8.3)\n",
            "Collecting pydot (from qiskit[visualization])\n",
            "  Downloading pydot-4.0.1-py3-none-any.whl.metadata (11 kB)\n",
            "Requirement already satisfied: Pillow>=4.2.1 in c:\\python311\\lib\\site-packages (from qiskit[visualization]) (10.3.0)\n",
            "Collecting pylatexenc>=1.4 (from qiskit[visualization])\n",
            "  Downloading pylatexenc-2.10.tar.gz (162 kB)\n",
            "     ---------------------------------------- 0.0/162.6 kB ? eta -:--:--\n",
            "     -------------------------------------- 162.6/162.6 kB 4.9 MB/s eta 0:00:00\n",
            "  Installing build dependencies: started\n",
            "  Installing build dependencies: finished with status 'done'\n",
            "  Getting requirements to build wheel: started\n",
            "  Getting requirements to build wheel: finished with status 'done'\n",
            "  Preparing metadata (pyproject.toml): started\n",
            "  Preparing metadata (pyproject.toml): finished with status 'done'\n",
            "Collecting seaborn>=0.9.0 (from qiskit[visualization])\n",
            "  Using cached seaborn-0.13.2-py3-none-any.whl.metadata (5.4 kB)\n",
            "Collecting sympy>=1.3 (from qiskit[visualization])\n",
            "  Using cached sympy-1.14.0-py3-none-any.whl.metadata (12 kB)\n",
            "Requirement already satisfied: requests>=2.19 in c:\\python311\\lib\\site-packages (from qiskit-ibm-runtime) (2.31.0)\n",
            "Collecting requests-ntlm>=1.1.0 (from qiskit-ibm-runtime)\n",
            "  Downloading requests_ntlm-1.3.0-py3-none-any.whl.metadata (2.4 kB)\n",
            "Requirement already satisfied: urllib3>=1.21.1 in c:\\python311\\lib\\site-packages (from qiskit-ibm-runtime) (2.0.7)\n",
            "Requirement already satisfied: python-dateutil>=2.8.0 in c:\\users\\bryce\\appdata\\roaming\\python\\python311\\site-packages (from qiskit-ibm-runtime) (2.8.2)\n",
            "Collecting ibm-platform-services>=0.22.6 (from qiskit-ibm-runtime)\n",
            "  Downloading ibm_platform_services-0.69.0-py3-none-any.whl.metadata (9.0 kB)\n",
            "Collecting pydantic>=2.5.0 (from qiskit-ibm-runtime)\n",
            "  Downloading pydantic-2.12.3-py3-none-any.whl.metadata (87 kB)\n",
            "     ---------------------------------------- 0.0/87.7 kB ? eta -:--:--\n",
            "     ---------------------------------------- 87.7/87.7 kB 4.8 MB/s eta 0:00:00\n",
            "Requirement already satisfied: packaging in c:\\users\\bryce\\appdata\\roaming\\python\\python311\\site-packages (from qiskit-ibm-runtime) (23.2)\n",
            "Requirement already satisfied: psutil>=5 in c:\\users\\bryce\\appdata\\roaming\\python\\python311\\site-packages (from qiskit-aer) (5.9.8)\n",
            "Collecting openqasm3<2.0,>=0.4 (from openqasm3[parser]<2.0,>=0.4->qiskit_qasm3_import)\n",
            "  Downloading openqasm3-1.0.1-py3-none-any.whl.metadata (6.0 kB)\n",
            "Collecting ibm_cloud_sdk_core<4.0.0,>=3.24.2 (from ibm-platform-services>=0.22.6->qiskit-ibm-runtime)\n",
            "  Downloading ibm_cloud_sdk_core-3.24.2-py3-none-any.whl.metadata (8.7 kB)\n",
            "Requirement already satisfied: contourpy>=1.0.1 in c:\\users\\bryce\\appdata\\roaming\\python\\python311\\site-packages (from matplotlib>=3.3->qiskit[visualization]) (1.2.1)\n",
            "Requirement already satisfied: cycler>=0.10 in c:\\users\\bryce\\appdata\\roaming\\python\\python311\\site-packages (from matplotlib>=3.3->qiskit[visualization]) (0.12.1)\n",
            "Requirement already satisfied: fonttools>=4.22.0 in c:\\python311\\lib\\site-packages (from matplotlib>=3.3->qiskit[visualization]) (4.50.0)\n",
            "Requirement already satisfied: kiwisolver>=1.3.1 in c:\\python311\\lib\\site-packages (from matplotlib>=3.3->qiskit[visualization]) (1.4.5)\n",
            "Requirement already satisfied: pyparsing>=2.3.1 in c:\\python311\\lib\\site-packages (from matplotlib>=3.3->qiskit[visualization]) (3.1.2)\n",
            "Collecting antlr4_python3_runtime<4.14,>=4.7 (from openqasm3[parser]<2.0,>=0.4->qiskit_qasm3_import)\n",
            "  Downloading antlr4_python3_runtime-4.13.2-py3-none-any.whl.metadata (304 bytes)\n",
            "Collecting annotated-types>=0.6.0 (from pydantic>=2.5.0->qiskit-ibm-runtime)\n",
            "  Using cached annotated_types-0.7.0-py3-none-any.whl.metadata (15 kB)\n",
            "Collecting pydantic-core==2.41.4 (from pydantic>=2.5.0->qiskit-ibm-runtime)\n",
            "  Downloading pydantic_core-2.41.4-cp311-cp311-win_amd64.whl.metadata (7.4 kB)\n",
            "Collecting typing-inspection>=0.4.2 (from pydantic>=2.5.0->qiskit-ibm-runtime)\n",
            "  Downloading typing_inspection-0.4.2-py3-none-any.whl.metadata (2.6 kB)\n",
            "Requirement already satisfied: six>=1.5 in c:\\users\\bryce\\appdata\\roaming\\python\\python311\\site-packages (from python-dateutil>=2.8.0->qiskit-ibm-runtime) (1.16.0)\n",
            "Requirement already satisfied: charset-normalizer<4,>=2 in c:\\python311\\lib\\site-packages (from requests>=2.19->qiskit-ibm-runtime) (3.3.0)\n",
            "Requirement already satisfied: idna<4,>=2.5 in c:\\python311\\lib\\site-packages (from requests>=2.19->qiskit-ibm-runtime) (3.4)\n",
            "Requirement already satisfied: certifi>=2017.4.17 in c:\\python311\\lib\\site-packages (from requests>=2.19->qiskit-ibm-runtime) (2023.7.22)\n",
            "Collecting cryptography>=1.3 (from requests-ntlm>=1.1.0->qiskit-ibm-runtime)\n",
            "  Downloading cryptography-46.0.3-cp311-abi3-win_amd64.whl.metadata (5.7 kB)\n",
            "Collecting pyspnego>=0.4.0 (from requests-ntlm>=1.1.0->qiskit-ibm-runtime)\n",
            "  Downloading pyspnego-0.12.0-py3-none-any.whl.metadata (4.1 kB)\n",
            "Requirement already satisfied: pandas>=1.2 in c:\\python311\\lib\\site-packages (from seaborn>=0.9.0->qiskit[visualization]) (2.2.1)\n",
            "Collecting mpmath<1.4,>=1.1.0 (from sympy>=1.3->qiskit[visualization])\n",
            "  Using cached mpmath-1.3.0-py3-none-any.whl.metadata (8.6 kB)\n",
            "Collecting cffi>=2.0.0 (from cryptography>=1.3->requests-ntlm>=1.1.0->qiskit-ibm-runtime)\n",
            "  Downloading cffi-2.0.0-cp311-cp311-win_amd64.whl.metadata (2.6 kB)\n",
            "Collecting requests>=2.19 (from qiskit-ibm-runtime)\n",
            "  Using cached requests-2.32.5-py3-none-any.whl.metadata (4.9 kB)\n",
            "Collecting urllib3>=1.21.1 (from qiskit-ibm-runtime)\n",
            "  Using cached urllib3-2.5.0-py3-none-any.whl.metadata (6.5 kB)\n",
            "Collecting python-dateutil>=2.8.0 (from qiskit-ibm-runtime)\n",
            "  Using cached python_dateutil-2.9.0.post0-py2.py3-none-any.whl.metadata (8.4 kB)\n",
            "Collecting PyJWT<3.0.0,>=2.10.1 (from ibm_cloud_sdk_core<4.0.0,>=3.24.2->ibm-platform-services>=0.22.6->qiskit-ibm-runtime)\n",
            "  Downloading PyJWT-2.10.1-py3-none-any.whl.metadata (4.0 kB)\n",
            "Requirement already satisfied: pytz>=2020.1 in c:\\python311\\lib\\site-packages (from pandas>=1.2->seaborn>=0.9.0->qiskit[visualization]) (2024.1)\n",
            "Requirement already satisfied: tzdata>=2022.7 in c:\\python311\\lib\\site-packages (from pandas>=1.2->seaborn>=0.9.0->qiskit[visualization]) (2024.1)\n",
            "Collecting sspilib>=0.3.0 (from pyspnego>=0.4.0->requests-ntlm>=1.1.0->qiskit-ibm-runtime)\n",
            "  Downloading sspilib-0.4.0-cp311-cp311-win_amd64.whl.metadata (6.2 kB)\n",
            "Requirement already satisfied: pycparser in c:\\users\\bryce\\appdata\\roaming\\python\\python311\\site-packages (from cffi>=2.0.0->cryptography>=1.3->requests-ntlm>=1.1.0->qiskit-ibm-runtime) (2.22)\n",
            "Downloading qiskit_ibm_runtime-0.43.0-py3-none-any.whl (1.4 MB)\n",
            "   ---------------------------------------- 0.0/1.4 MB ? eta -:--:--\n",
            "   ---------------------- ----------------- 0.8/1.4 MB 25.4 MB/s eta 0:00:01\n",
            "   ---------------------------------------  1.4/1.4 MB 22.4 MB/s eta 0:00:01\n",
            "   ---------------------------------------- 1.4/1.4 MB 11.3 MB/s eta 0:00:00\n",
            "Downloading qiskit_aer-0.17.2-cp311-cp311-win_amd64.whl (9.6 MB)\n",
            "   ---------------------------------------- 0.0/9.6 MB ? eta -:--:--\n",
            "   -- ------------------------------------- 0.6/9.6 MB 33.9 MB/s eta 0:00:01\n",
            "   -- ------------------------------------- 0.6/9.6 MB 33.9 MB/s eta 0:00:01\n",
            "   --- ------------------------------------ 0.8/9.6 MB 7.2 MB/s eta 0:00:02\n",
            "   ------ --------------------------------- 1.5/9.6 MB 9.3 MB/s eta 0:00:01\n",
            "   -------- ------------------------------- 1.9/9.6 MB 9.5 MB/s eta 0:00:01\n",
            "   ----------- ---------------------------- 2.8/9.6 MB 11.3 MB/s eta 0:00:01\n",
            "   ----------- ---------------------------- 2.8/9.6 MB 11.3 MB/s eta 0:00:01\n",
            "   ----------- ---------------------------- 2.8/9.6 MB 11.3 MB/s eta 0:00:01\n",
            "   ----------- ---------------------------- 2.8/9.6 MB 11.3 MB/s eta 0:00:01\n",
            "   ----------- ---------------------------- 2.8/9.6 MB 11.3 MB/s eta 0:00:01\n",
            "   ----------- ---------------------------- 2.8/9.6 MB 11.3 MB/s eta 0:00:01\n",
            "   ----------- ---------------------------- 2.8/9.6 MB 11.3 MB/s eta 0:00:01\n",
            "   ----------- ---------------------------- 2.8/9.6 MB 11.3 MB/s eta 0:00:01\n",
            "   ----------- ---------------------------- 2.8/9.6 MB 11.3 MB/s eta 0:00:01\n",
            "   ----------- ---------------------------- 2.8/9.6 MB 11.3 MB/s eta 0:00:01\n",
            "   ----------- ---------------------------- 2.8/9.6 MB 11.3 MB/s eta 0:00:01\n",
            "   ----------- ---------------------------- 2.8/9.6 MB 11.3 MB/s eta 0:00:01\n",
            "   ----------- ---------------------------- 2.8/9.6 MB 11.3 MB/s eta 0:00:01\n",
            "   ----------- ---------------------------- 2.8/9.6 MB 11.3 MB/s eta 0:00:01\n",
            "   ----------- ---------------------------- 2.8/9.6 MB 11.3 MB/s eta 0:00:01\n",
            "   ----------- ---------------------------- 2.8/9.6 MB 11.3 MB/s eta 0:00:01\n",
            "   ----------- ---------------------------- 2.8/9.6 MB 11.3 MB/s eta 0:00:01\n",
            "   ----------- ---------------------------- 2.8/9.6 MB 11.3 MB/s eta 0:00:01\n",
            "   ----------- ---------------------------- 2.8/9.6 MB 11.3 MB/s eta 0:00:01\n",
            "   ----------- ---------------------------- 2.8/9.6 MB 11.3 MB/s eta 0:00:01\n",
            "   ----------- ---------------------------- 2.8/9.6 MB 11.3 MB/s eta 0:00:01\n",
            "   ----------- ---------------------------- 2.8/9.6 MB 11.3 MB/s eta 0:00:01\n",
            "   ----------- ---------------------------- 2.8/9.6 MB 11.3 MB/s eta 0:00:01\n",
            "   ----------- ---------------------------- 2.8/9.6 MB 11.3 MB/s eta 0:00:01\n",
            "   ----------- ---------------------------- 2.8/9.6 MB 11.3 MB/s eta 0:00:01\n",
            "   ----------- ---------------------------- 2.8/9.6 MB 11.3 MB/s eta 0:00:01\n",
            "   ----------- ---------------------------- 2.8/9.6 MB 11.3 MB/s eta 0:00:01\n",
            "   ----------- ---------------------------- 2.8/9.6 MB 11.3 MB/s eta 0:00:01\n",
            "   ----------- ---------------------------- 2.8/9.6 MB 11.3 MB/s eta 0:00:01\n",
            "   ----------- ---------------------------- 2.8/9.6 MB 11.3 MB/s eta 0:00:01\n",
            "   ----------- ---------------------------- 2.8/9.6 MB 11.3 MB/s eta 0:00:01\n",
            "   ----------- ---------------------------- 2.8/9.6 MB 11.3 MB/s eta 0:00:01\n",
            "   ----------- ---------------------------- 2.8/9.6 MB 11.3 MB/s eta 0:00:01\n",
            "   ----------- ---------------------------- 2.8/9.6 MB 11.3 MB/s eta 0:00:01\n",
            "   ----------- ---------------------------- 2.8/9.6 MB 11.3 MB/s eta 0:00:01\n",
            "   ----------- ---------------------------- 2.8/9.6 MB 11.3 MB/s eta 0:00:01\n",
            "   ------------ --------------------------- 2.9/9.6 MB 1.6 MB/s eta 0:00:05\n",
            "   ------------ --------------------------- 3.1/9.6 MB 1.6 MB/s eta 0:00:05\n",
            "   ------------- -------------------------- 3.2/9.6 MB 1.6 MB/s eta 0:00:04\n",
            "   -------------- ------------------------- 3.4/9.6 MB 1.7 MB/s eta 0:00:04\n",
            "   --------------- ------------------------ 3.7/9.6 MB 1.8 MB/s eta 0:00:04\n",
            "   ---------------- ----------------------- 4.0/9.6 MB 1.9 MB/s eta 0:00:03\n",
            "   ----------------- ---------------------- 4.2/9.6 MB 2.0 MB/s eta 0:00:03\n",
            "   ------------------ --------------------- 4.5/9.6 MB 2.0 MB/s eta 0:00:03\n",
            "   -------------------- ------------------- 4.9/9.6 MB 2.2 MB/s eta 0:00:03\n",
            "   -------------------- ------------------- 4.9/9.6 MB 2.2 MB/s eta 0:00:03\n",
            "   ------------------------ --------------- 5.8/9.6 MB 2.5 MB/s eta 0:00:02\n",
            "   -------------------------- ------------- 6.4/9.6 MB 2.7 MB/s eta 0:00:02\n",
            "   ---------------------------- ----------- 6.9/9.6 MB 2.9 MB/s eta 0:00:01\n",
            "   ------------------------------- -------- 7.6/9.6 MB 3.1 MB/s eta 0:00:01\n",
            "   ----------------------------------- ---- 8.5/9.6 MB 3.4 MB/s eta 0:00:01\n",
            "   ----------------------------------- ---- 8.6/9.6 MB 3.3 MB/s eta 0:00:01\n",
            "   ----------------------------------- ---- 8.6/9.6 MB 3.3 MB/s eta 0:00:01\n",
            "   ----------------------------------- ---- 8.6/9.6 MB 3.3 MB/s eta 0:00:01\n",
            "   ----------------------------------- ---- 8.6/9.6 MB 3.3 MB/s eta 0:00:01\n",
            "   ----------------------------------- ---- 8.6/9.6 MB 3.3 MB/s eta 0:00:01\n",
            "   ----------------------------------- ---- 8.6/9.6 MB 3.3 MB/s eta 0:00:01\n",
            "   ----------------------------------- ---- 8.6/9.6 MB 3.3 MB/s eta 0:00:01\n",
            "   ----------------------------------- ---- 8.6/9.6 MB 3.3 MB/s eta 0:00:01\n",
            "   ----------------------------------- ---- 8.6/9.6 MB 3.3 MB/s eta 0:00:01\n",
            "   ----------------------------------- ---- 8.6/9.6 MB 3.3 MB/s eta 0:00:01\n",
            "   ----------------------------------- ---- 8.6/9.6 MB 3.3 MB/s eta 0:00:01\n",
            "   ----------------------------------- ---- 8.6/9.6 MB 3.3 MB/s eta 0:00:01\n",
            "   ----------------------------------- ---- 8.6/9.6 MB 3.3 MB/s eta 0:00:01\n",
            "   ----------------------------------- ---- 8.6/9.6 MB 2.7 MB/s eta 0:00:01\n",
            "   ------------------------------------- -- 9.0/9.6 MB 2.7 MB/s eta 0:00:01\n",
            "   ---------------------------------------  9.5/9.6 MB 2.9 MB/s eta 0:00:01\n",
            "   ---------------------------------------  9.6/9.6 MB 2.9 MB/s eta 0:00:01\n",
            "   ---------------------------------------  9.6/9.6 MB 2.9 MB/s eta 0:00:01\n",
            "   ---------------------------------------  9.6/9.6 MB 2.9 MB/s eta 0:00:01\n",
            "   ---------------------------------------  9.6/9.6 MB 2.9 MB/s eta 0:00:01\n",
            "   ---------------------------------------  9.6/9.6 MB 2.9 MB/s eta 0:00:01\n",
            "   ---------------------------------------  9.6/9.6 MB 2.9 MB/s eta 0:00:01\n",
            "   ---------------------------------------  9.6/9.6 MB 2.9 MB/s eta 0:00:01\n",
            "   ---------------------------------------  9.6/9.6 MB 2.9 MB/s eta 0:00:01\n",
            "   ---------------------------------------  9.6/9.6 MB 2.9 MB/s eta 0:00:01\n",
            "   ---------------------------------------  9.6/9.6 MB 2.9 MB/s eta 0:00:01\n",
            "   ---------------------------------------  9.6/9.6 MB 2.9 MB/s eta 0:00:01\n",
            "   ---------------------------------------  9.6/9.6 MB 2.9 MB/s eta 0:00:01\n",
            "   ---------------------------------------  9.6/9.6 MB 2.9 MB/s eta 0:00:01\n",
            "   ---------------------------------------- 9.6/9.6 MB 2.4 MB/s eta 0:00:00\n",
            "Downloading qiskit_qasm3_import-0.6.0-py3-none-any.whl (29 kB)\n",
            "Using cached dill-0.4.0-py3-none-any.whl (119 kB)\n",
            "Downloading ibm_platform_services-0.69.0-py3-none-any.whl (368 kB)\n",
            "   ---------------------------------------- 0.0/368.7 kB ? eta -:--:--\n",
            "   --------------------------------------  368.6/368.7 kB 11.2 MB/s eta 0:00:01\n",
            "   ---------------------------------------- 368.7/368.7 kB 5.7 MB/s eta 0:00:00\n",
            "Downloading openqasm3-1.0.1-py3-none-any.whl (541 kB)\n",
            "   ---------------------------------------- 0.0/541.5 kB ? eta -:--:--\n",
            "   ------------------------- ------------- 348.2/541.5 kB 10.9 MB/s eta 0:00:01\n",
            "   --------------------------------------  532.5/541.5 kB 11.1 MB/s eta 0:00:01\n",
            "   ---------------------------------------- 541.5/541.5 kB 5.7 MB/s eta 0:00:00\n",
            "Downloading pydantic-2.12.3-py3-none-any.whl (462 kB)\n",
            "   ---------------------------------------- 0.0/462.4 kB ? eta -:--:--\n",
            "   -------------------------------- ------ 389.1/462.4 kB 11.8 MB/s eta 0:00:01\n",
            "   ---------------------------------------  460.8/462.4 kB 7.2 MB/s eta 0:00:01\n",
            "   ---------------------------------------- 462.4/462.4 kB 4.8 MB/s eta 0:00:00\n",
            "Downloading pydantic_core-2.41.4-cp311-cp311-win_amd64.whl (2.0 MB)\n",
            "   ---------------------------------------- 0.0/2.0 MB ? eta -:--:--\n",
            "   ------- -------------------------------- 0.4/2.0 MB 12.2 MB/s eta 0:00:01\n",
            "   -------------- ------------------------- 0.7/2.0 MB 9.5 MB/s eta 0:00:01\n",
            "   -------------------------- ------------- 1.3/2.0 MB 12.1 MB/s eta 0:00:01\n",
            "   ---------------------------------------  2.0/2.0 MB 14.2 MB/s eta 0:00:01\n",
            "   ---------------------------------------  2.0/2.0 MB 14.2 MB/s eta 0:00:01\n",
            "   ---------------------------------------- 2.0/2.0 MB 9.2 MB/s eta 0:00:00\n",
            "Downloading qiskit-2.2.1-cp39-abi3-win_amd64.whl (7.8 MB)\n",
            "   ---------------------------------------- 0.0/7.8 MB ? eta -:--:--\n",
            "   - -------------------------------------- 0.2/7.8 MB ? eta -:--:--\n",
            "   - -------------------------------------- 0.2/7.8 MB ? eta -:--:--\n",
            "   - -------------------------------------- 0.2/7.8 MB ? eta -:--:--\n",
            "   - -------------------------------------- 0.2/7.8 MB ? eta -:--:--\n",
            "   - -------------------------------------- 0.2/7.8 MB ? eta -:--:--\n",
            "   - -------------------------------------- 0.2/7.8 MB ? eta -:--:--\n",
            "   - -------------------------------------- 0.2/7.8 MB ? eta -:--:--\n",
            "   - -------------------------------------- 0.3/7.8 MB 744.2 kB/s eta 0:00:11\n",
            "   ---- ----------------------------------- 0.8/7.8 MB 2.0 MB/s eta 0:00:04\n",
            "   -------- ------------------------------- 1.6/7.8 MB 3.6 MB/s eta 0:00:02\n",
            "   ------------ --------------------------- 2.4/7.8 MB 5.0 MB/s eta 0:00:02\n",
            "   ------------- -------------------------- 2.6/7.8 MB 5.0 MB/s eta 0:00:02\n",
            "   --------------- ------------------------ 3.1/7.8 MB 5.4 MB/s eta 0:00:01\n",
            "   --------------- ------------------------ 3.1/7.8 MB 5.4 MB/s eta 0:00:01\n",
            "   --------------- ------------------------ 3.1/7.8 MB 5.4 MB/s eta 0:00:01\n",
            "   --------------- ------------------------ 3.1/7.8 MB 5.4 MB/s eta 0:00:01\n",
            "   --------------- ------------------------ 3.1/7.8 MB 5.4 MB/s eta 0:00:01\n",
            "   --------------- ------------------------ 3.1/7.8 MB 5.4 MB/s eta 0:00:01\n",
            "   --------------- ------------------------ 3.1/7.8 MB 5.4 MB/s eta 0:00:01\n",
            "   --------------- ------------------------ 3.1/7.8 MB 5.4 MB/s eta 0:00:01\n",
            "   --------------- ------------------------ 3.1/7.8 MB 5.4 MB/s eta 0:00:01\n",
            "   --------------- ------------------------ 3.1/7.8 MB 5.4 MB/s eta 0:00:01\n",
            "   --------------- ------------------------ 3.1/7.8 MB 5.4 MB/s eta 0:00:01\n",
            "   --------------- ------------------------ 3.1/7.8 MB 5.4 MB/s eta 0:00:01\n",
            "   --------------- ------------------------ 3.1/7.8 MB 2.5 MB/s eta 0:00:02\n",
            "   ------------------ --------------------- 3.6/7.8 MB 2.7 MB/s eta 0:00:02\n",
            "   -------------------- ------------------- 4.0/7.8 MB 2.8 MB/s eta 0:00:02\n",
            "   ---------------------- ----------------- 4.3/7.8 MB 3.0 MB/s eta 0:00:02\n",
            "   ----------------------- ---------------- 4.6/7.8 MB 3.1 MB/s eta 0:00:02\n",
            "   ------------------------- -------------- 4.9/7.8 MB 3.2 MB/s eta 0:00:01\n",
            "   ----------------------------- ---------- 5.8/7.8 MB 3.6 MB/s eta 0:00:01\n",
            "   ------------------------------- -------- 6.1/7.8 MB 3.7 MB/s eta 0:00:01\n",
            "   ---------------------------------- ----- 6.7/7.8 MB 4.0 MB/s eta 0:00:01\n",
            "   ---------------------------------- ----- 6.7/7.8 MB 4.0 MB/s eta 0:00:01\n",
            "   ---------------------------------- ----- 6.7/7.8 MB 4.0 MB/s eta 0:00:01\n",
            "   ---------------------------------- ----- 6.7/7.8 MB 4.0 MB/s eta 0:00:01\n",
            "   ---------------------------------- ----- 6.7/7.8 MB 4.0 MB/s eta 0:00:01\n",
            "   ---------------------------------- ----- 6.7/7.8 MB 4.0 MB/s eta 0:00:01\n",
            "   ---------------------------------- ----- 6.7/7.8 MB 4.0 MB/s eta 0:00:01\n",
            "   ---------------------------------- ----- 6.7/7.8 MB 4.0 MB/s eta 0:00:01\n",
            "   ---------------------------------- ----- 6.7/7.8 MB 4.0 MB/s eta 0:00:01\n",
            "   ----------------------------------- ---- 6.9/7.8 MB 3.1 MB/s eta 0:00:01\n",
            "   ----------------------------------- ---- 6.9/7.8 MB 3.0 MB/s eta 0:00:01\n",
            "   ----------------------------------- ---- 6.9/7.8 MB 3.0 MB/s eta 0:00:01\n",
            "   ----------------------------------- ---- 6.9/7.8 MB 3.0 MB/s eta 0:00:01\n",
            "   -------------------------------------- - 7.4/7.8 MB 3.0 MB/s eta 0:00:01\n",
            "   ---------------------------------------  7.8/7.8 MB 3.1 MB/s eta 0:00:01\n",
            "   ---------------------------------------  7.8/7.8 MB 3.1 MB/s eta 0:00:01\n",
            "   ---------------------------------------  7.8/7.8 MB 3.1 MB/s eta 0:00:01\n",
            "   ---------------------------------------  7.8/7.8 MB 3.1 MB/s eta 0:00:01\n",
            "   ---------------------------------------  7.8/7.8 MB 3.1 MB/s eta 0:00:01\n",
            "   ---------------------------------------  7.8/7.8 MB 3.1 MB/s eta 0:00:01\n",
            "   ---------------------------------------  7.8/7.8 MB 3.1 MB/s eta 0:00:01\n",
            "   ---------------------------------------- 7.8/7.8 MB 2.7 MB/s eta 0:00:00\n",
            "Downloading requests_ntlm-1.3.0-py3-none-any.whl (6.6 kB)\n",
            "Downloading rustworkx-0.17.1-cp39-abi3-win_amd64.whl (2.1 MB)\n",
            "   ---------------------------------------- 0.0/2.1 MB ? eta -:--:--\n",
            "   ------------ --------------------------- 0.7/2.1 MB 21.1 MB/s eta 0:00:01\n",
            "   ----------------------- ---------------- 1.2/2.1 MB 15.1 MB/s eta 0:00:01\n",
            "   ------------------------------------ --- 1.9/2.1 MB 14.9 MB/s eta 0:00:01\n",
            "   ---------------------------------------  2.0/2.1 MB 14.5 MB/s eta 0:00:01\n",
            "   ---------------------------------------  2.0/2.1 MB 14.5 MB/s eta 0:00:01\n",
            "   ---------------------------------------- 2.1/2.1 MB 8.2 MB/s eta 0:00:00\n",
            "Using cached seaborn-0.13.2-py3-none-any.whl (294 kB)\n",
            "Downloading stevedore-5.5.0-py3-none-any.whl (49 kB)\n",
            "   ---------------------------------------- 0.0/49.5 kB ? eta -:--:--\n",
            "   ---------------------------------------- 49.5/49.5 kB 1.3 MB/s eta 0:00:00\n",
            "Using cached sympy-1.14.0-py3-none-any.whl (6.3 MB)\n",
            "Using cached typing_extensions-4.15.0-py3-none-any.whl (44 kB)\n",
            "Downloading pydot-4.0.1-py3-none-any.whl (37 kB)\n",
            "Using cached annotated_types-0.7.0-py3-none-any.whl (13 kB)\n",
            "Downloading antlr4_python3_runtime-4.13.2-py3-none-any.whl (144 kB)\n",
            "   ---------------------------------------- 0.0/144.5 kB ? eta -:--:--\n",
            "   ---------------------------------------- 144.5/144.5 kB 4.3 MB/s eta 0:00:00\n",
            "Downloading cryptography-46.0.3-cp311-abi3-win_amd64.whl (3.5 MB)\n",
            "   ---------------------------------------- 0.0/3.5 MB ? eta -:--:--\n",
            "   ---------- ----------------------------- 0.9/3.5 MB 28.1 MB/s eta 0:00:01\n",
            "   ------------------- -------------------- 1.7/3.5 MB 21.8 MB/s eta 0:00:01\n",
            "   ----------------------------- ---------- 2.6/3.5 MB 21.0 MB/s eta 0:00:01\n",
            "   ----------------------------- ---------- 2.6/3.5 MB 21.0 MB/s eta 0:00:01\n",
            "   ----------------------------- ---------- 2.6/3.5 MB 21.0 MB/s eta 0:00:01\n",
            "   ----------------------------- ---------- 2.6/3.5 MB 21.0 MB/s eta 0:00:01\n",
            "   ----------------------------- ---------- 2.6/3.5 MB 21.0 MB/s eta 0:00:01\n",
            "   ----------------------------- ---------- 2.6/3.5 MB 21.0 MB/s eta 0:00:01\n",
            "   ------------------------------ --------- 2.6/3.5 MB 7.0 MB/s eta 0:00:01\n",
            "   -------------------------------- ------- 2.9/3.5 MB 6.7 MB/s eta 0:00:01\n",
            "   -------------------------------------- - 3.4/3.5 MB 7.5 MB/s eta 0:00:01\n",
            "   ---------------------------------------  3.5/3.5 MB 7.5 MB/s eta 0:00:01\n",
            "   ---------------------------------------  3.5/3.5 MB 7.5 MB/s eta 0:00:01\n",
            "   ---------------------------------------  3.5/3.5 MB 7.5 MB/s eta 0:00:01\n",
            "   ---------------------------------------  3.5/3.5 MB 7.5 MB/s eta 0:00:01\n",
            "   ---------------------------------------  3.5/3.5 MB 7.5 MB/s eta 0:00:01\n",
            "   ---------------------------------------  3.5/3.5 MB 7.5 MB/s eta 0:00:01\n",
            "   ---------------------------------------  3.5/3.5 MB 7.5 MB/s eta 0:00:01\n",
            "   ---------------------------------------  3.5/3.5 MB 7.5 MB/s eta 0:00:01\n",
            "   ---------------------------------------  3.5/3.5 MB 7.5 MB/s eta 0:00:01\n",
            "   ---------------------------------------- 3.5/3.5 MB 3.8 MB/s eta 0:00:00\n",
            "Downloading ibm_cloud_sdk_core-3.24.2-py3-none-any.whl (75 kB)\n",
            "   ---------------------------------------- 0.0/75.8 kB ? eta -:--:--\n",
            "   ---------------------------------------- 75.8/75.8 kB 2.1 MB/s eta 0:00:00\n",
            "Using cached python_dateutil-2.9.0.post0-py2.py3-none-any.whl (229 kB)\n",
            "Using cached requests-2.32.5-py3-none-any.whl (64 kB)\n",
            "Using cached urllib3-2.5.0-py3-none-any.whl (129 kB)\n",
            "Using cached mpmath-1.3.0-py3-none-any.whl (536 kB)\n",
            "Downloading pyspnego-0.12.0-py3-none-any.whl (130 kB)\n",
            "   ---------------------------------------- 0.0/130.2 kB ? eta -:--:--\n",
            "   ------------------------------------- -- 122.9/130.2 kB ? eta -:--:--\n",
            "   ---------------------------------------- 130.2/130.2 kB 3.9 MB/s eta 0:00:00\n",
            "Downloading typing_inspection-0.4.2-py3-none-any.whl (14 kB)\n",
            "Downloading cffi-2.0.0-cp311-cp311-win_amd64.whl (182 kB)\n",
            "   ---------------------------------------- 0.0/182.8 kB ? eta -:--:--\n",
            "   ---------------------------------------- 182.8/182.8 kB 5.6 MB/s eta 0:00:00\n",
            "Downloading PyJWT-2.10.1-py3-none-any.whl (22 kB)\n",
            "Downloading sspilib-0.4.0-cp311-cp311-win_amd64.whl (570 kB)\n",
            "   ---------------------------------------- 0.0/570.3 kB ? eta -:--:--\n",
            "   --------------------------------------  563.2/570.3 kB 17.8 MB/s eta 0:00:01\n",
            "   ---------------------------------------- 570.3/570.3 kB 9.0 MB/s eta 0:00:00\n",
            "Building wheels for collected packages: pylatexenc\n",
            "  Building wheel for pylatexenc (pyproject.toml): started\n",
            "  Building wheel for pylatexenc (pyproject.toml): finished with status 'done'\n",
            "  Created wheel for pylatexenc: filename=pylatexenc-2.10-py3-none-any.whl size=136928 sha256=6d13018181de806763357d20685578442396d4fb52b0647e04b5b3dbd4dbb46f\n",
            "  Stored in directory: c:\\users\\bryce\\appdata\\local\\pip\\cache\\wheels\\b1\\7a\\33\\9fdd892f784ed4afda62b685ae3703adf4c91aa0f524c28f03\n",
            "Successfully built pylatexenc\n",
            "Installing collected packages: pylatexenc, openqasm3, mpmath, antlr4_python3_runtime, urllib3, typing-extensions, sympy, stevedore, sspilib, rustworkx, python-dateutil, PyJWT, pydot, dill, cffi, annotated-types, typing-inspection, requests, qiskit, pydantic-core, cryptography, seaborn, qiskit_qasm3_import, qiskit-aer, pyspnego, pydantic, ibm_cloud_sdk_core, requests-ntlm, ibm-platform-services, qiskit-ibm-runtime\n"
          ]
        },
        {
          "name": "stderr",
          "output_type": "stream",
          "text": [
            "DEPRECATION: Loading egg at c:\\python311\\lib\\site-packages\\vboxapi-1.0-py3.11.egg is deprecated. pip 24.3 will enforce this behaviour change. A possible replacement is to use pip for package installation.. Discussion can be found at https://github.com/pypa/pip/issues/12330\n",
            "  WARNING: Failed to write executable - trying to use .deleteme logic\n",
            "ERROR: Could not install packages due to an OSError: [WinError 2] The system cannot find the file specified: 'C:\\\\Python311\\\\Scripts\\\\latex2text.exe' -> 'C:\\\\Python311\\\\Scripts\\\\latex2text.exe.deleteme'\n",
            "\n",
            "\n",
            "[notice] A new release of pip is available: 23.3 -> 25.2\n",
            "[notice] To update, run: python.exe -m pip install --upgrade pip\n"
          ]
        },
        {
          "ename": "ModuleNotFoundError",
          "evalue": "No module named 'qiskit'",
          "output_type": "error",
          "traceback": [
            "\u001b[1;31m---------------------------------------------------------------------------\u001b[0m",
            "\u001b[1;31mModuleNotFoundError\u001b[0m                       Traceback (most recent call last)",
            "Cell \u001b[1;32mIn[1], line 4\u001b[0m\n\u001b[0;32m      1\u001b[0m get_ipython()\u001b[38;5;241m.\u001b[39msystem(\u001b[38;5;124m'\u001b[39m\u001b[38;5;124mpip install qiskit[visualization] qiskit-ibm-runtime qiskit-aer qiskit_qasm3_import\u001b[39m\u001b[38;5;124m'\u001b[39m)\n\u001b[0;32m      3\u001b[0m \u001b[38;5;28;01mimport\u001b[39;00m \u001b[38;5;21;01mnumpy\u001b[39;00m \u001b[38;5;28;01mas\u001b[39;00m \u001b[38;5;21;01mnp\u001b[39;00m\n\u001b[1;32m----> 4\u001b[0m \u001b[38;5;28;01mfrom\u001b[39;00m \u001b[38;5;21;01mqiskit\u001b[39;00m \u001b[38;5;28;01mimport\u001b[39;00m QuantumCircuit\n\u001b[0;32m      5\u001b[0m \u001b[38;5;28;01mfrom\u001b[39;00m \u001b[38;5;21;01mqiskit\u001b[39;00m\u001b[38;5;21;01m.\u001b[39;00m\u001b[38;5;21;01mquantum_info\u001b[39;00m \u001b[38;5;28;01mimport\u001b[39;00m Pauli, SparsePauliOp, Statevector\n\u001b[0;32m      6\u001b[0m \u001b[38;5;28;01mfrom\u001b[39;00m \u001b[38;5;21;01mqiskit\u001b[39;00m\u001b[38;5;21;01m.\u001b[39;00m\u001b[38;5;21;01mvisualization\u001b[39;00m \u001b[38;5;28;01mimport\u001b[39;00m plot_histogram, plot_bloch_multivector\n",
            "\u001b[1;31mModuleNotFoundError\u001b[0m: No module named 'qiskit'"
          ]
        }
      ],
      "source": [
        "!pip install qiskit[visualization] qiskit-ibm-runtime qiskit-aer qiskit_qasm3_import\n",
        "\n",
        "import numpy as np\n",
        "from qiskit import QuantumCircuit\n",
        "from qiskit.quantum_info import Pauli, SparsePauliOp, Statevector\n",
        "from qiskit.visualization import plot_histogram, plot_bloch_multivector\n",
        "from qiskit_aer import AerSimulator\n",
        "from qiskit.circuit import Parameter, ParameterVector\n",
        "import qiskit.qasm3\n",
        "from qiskit_ibm_runtime.fake_provider import FakeVigoV2\n",
        "from qiskit.transpiler.preset_passmanagers import generate_preset_pass_manager\n",
        "from qiskit_ibm_runtime import SamplerV2 as Sampler, EstimatorV2 as Estimator, QiskitRuntimeService\n"
      ]
    },
    {
      "cell_type": "markdown",
      "metadata": {
        "id": "deqExCIwsxUr"
      },
      "source": [
        "---"
      ]
    },
    {
      "cell_type": "markdown",
      "metadata": {
        "id": "h7LE98wpsxUr"
      },
      "source": [
        "## 1. Pauli Operators (Single-Qubit Operators)\n",
        "\n",
        "**Explanation:** The Pauli operators (X, Y, Z, and I) are 2x2 matrices that represent fundamental single-qubit quantum operations. In Qiskit, these can be created using the `Pauli` class (e.g., `Pauli('X')` for the X operator). You can also construct multi-qubit Paulis by specifying characters for each qubit (e.g., `'XI'` for identity on qubit 0 and X on qubit 1, following Qiskit's little-endian bit ordering)."
      ]
    },
    {
      "cell_type": "markdown",
      "metadata": {
        "id": "16mO3TVQsxUr"
      },
      "source": [
        "**Exercise 1:**\n",
        "Write code that performs following functionality:\n",
        "1. Creates a 3-qubit Pauli operator representing `Z` on qubit 2, `Y` on qubit 1, and `I` (Identity) on qubit 0.\n",
        "2. Prints the operator.\n",
        "3. Prints its corresponding matrix representation"
      ]
    },
    {
      "cell_type": "code",
      "execution_count": null,
      "metadata": {
        "id": "Q7uI3aw1sxUr"
      },
      "outputs": [],
      "source": [
        "# Your code here\n",
        "\n"
      ]
    },
    {
      "cell_type": "markdown",
      "metadata": {
        "id": "jt1qu3ttsxUr"
      },
      "source": [
        "---"
      ]
    },
    {
      "cell_type": "markdown",
      "metadata": {
        "id": "oyy5Q-RysxUr"
      },
      "source": [
        "## 2. Single-Qubit Gates and Phases\n",
        "\n",
        "**Explanation:** Single-qubit gates like X, Y, Z, H, S, and T are basic operations on one qubit. S and T are phase gates. The S-gate adds a π/2 phase to the |1⟩ component of any quantum state, while the T-gate adds a π/4 phase to the |1⟩ component, leaving the |0⟩ component unchanged in both cases. These phase shifts are crucial for many quantum algorithms."
      ]
    },
    {
      "cell_type": "markdown",
      "metadata": {
        "id": "oR0wlF-xsxUr"
      },
      "source": [
        "**Exercise 2:**\n",
        "Write code that performs following functionality:\n",
        "1. Creates a quantum circuit that contains one qubit.\n",
        "2. Puts the qubit in the state |1⟩.\n",
        "3. Adds a single gate to the circuit that applies a π/4 phase shift to the qubit.\n",
        "4. Output a Dirac notation representation of the circuit's statevector."
      ]
    },
    {
      "cell_type": "code",
      "execution_count": null,
      "metadata": {
        "collapsed": true,
        "id": "Bd2qSTJisxUr"
      },
      "outputs": [],
      "source": [
        "# Your code here\n"
      ]
    },
    {
      "cell_type": "markdown",
      "metadata": {
        "id": "7dYTCO3AsxUr"
      },
      "source": [
        "---"
      ]
    },
    {
      "cell_type": "markdown",
      "metadata": {
        "id": "w53dsAQ4sxUr"
      },
      "source": [
        "## 3. Superposition and Bloch Sphere Rotations\n",
        "\n",
        "**Explanation:** Gates like `RX`, `RY`, and `RZ` perform rotations around the axes of the Bloch sphere, creating superposition states. A rotation by an angle θ around the Y-axis (`RY(θ)`) on an initial state |0⟩ produces the superposition cos(θ/2)|0⟩ + sin(θ/2)|1⟩. The probabilities of measuring 0 or 1 are the squares of these amplitudes."
      ]
    },
    {
      "cell_type": "markdown",
      "metadata": {
        "id": "xWCV781dsxUs"
      },
      "source": [
        "**Exercise 3:**\n",
        "Write code that performs following functionality:\n",
        "1. Creates a quantum circuit that contains one qubit.\n",
        "2. Applies a single gate to qubit 0 (initially in state |0⟩) to create a superposition where the probability of measuring |0⟩ is approximately 14.6% and the probability of measuring |1⟩ is 85.4%.\n",
        "3. Prints the probabilities.\n",
        "4. Displays a Bloch sphere representation of the statevector."
      ]
    },
    {
      "cell_type": "code",
      "execution_count": null,
      "metadata": {
        "id": "mIsVCiCksxUs"
      },
      "outputs": [],
      "source": [
        "# Your code here\n"
      ]
    },
    {
      "cell_type": "markdown",
      "metadata": {
        "id": "UpDq_hSCsxUs"
      },
      "source": [
        "---"
      ]
    },
    {
      "cell_type": "markdown",
      "metadata": {
        "id": "ab_OzjB-sxUs"
      },
      "source": [
        "## 4. Multi-Qubit Operations and Entanglement\n",
        "\n",
        "**Explanation:** Multi-qubit gates like the CNOT (`qc.cx(control, target)`) create entanglement when applied to superposition states. A common entangled state is the Bell state |Φ+⟩ = 1/√2(|00⟩ + |11⟩), created by applying a Hadamard gate to one qubit and then a CNOT gate. Remember Qiskit's bit ordering: qubit 0 is the rightmost bit (least significant)."
      ]
    },
    {
      "cell_type": "markdown",
      "metadata": {
        "id": "ixJz_uCSsxUs"
      },
      "source": [
        "**Exercise 4:**\n",
        "Write code that performs following functionality:\n",
        "1. Creates a quantum circuit that contains two qubits.\n",
        "2. Create the Bell state |Φ+⟩ in which the first qubit (q0) is the control qubit.\n",
        "3. Draws the quantum circuit using matplotlib.\n",
        "4. Prints the circuit's statevector."
      ]
    },
    {
      "cell_type": "code",
      "execution_count": null,
      "metadata": {
        "id": "tYtyD067sxUs"
      },
      "outputs": [],
      "source": [
        "# Your code here\n"
      ]
    },
    {
      "cell_type": "markdown",
      "metadata": {
        "id": "VXUeDyQQsxUs"
      },
      "source": [
        "---"
      ]
    },
    {
      "cell_type": "markdown",
      "metadata": {
        "id": "bYWNowNPsxUs"
      },
      "source": [
        "## 5. Building Quantum Circuits and Drawing\n",
        "\n",
        "**Explanation:** The `QuantumCircuit` class is used to build circuits. The `draw()` method provides visualizations in formats like `'text'`, `'mpl'`, and `'latex'`. You can customize the drawing with parameters such as `reverse_bits` to flip the qubit order."
      ]
    },
    {
      "cell_type": "markdown",
      "metadata": {
        "id": "h4YCSEVPsxUs"
      },
      "source": [
        "**Exercise 5:**\n",
        "Write code that performs following functionality:\n",
        "1. Creates a 3-qubit GHZ state.\n",
        "2. Draws the circuit with the qubit order reversed in the diagram (q2 on top, q0 on bottom).\n"
      ]
    },
    {
      "cell_type": "code",
      "execution_count": null,
      "metadata": {
        "id": "d0E_Jhn3sxUs"
      },
      "outputs": [],
      "source": [
        "# Your code here\n"
      ]
    },
    {
      "cell_type": "markdown",
      "metadata": {
        "id": "QmYxbaGEsxUs"
      },
      "source": [
        "---"
      ]
    },
    {
      "cell_type": "markdown",
      "metadata": {
        "id": "_7Ll_fsssxUs"
      },
      "source": [
        "## 6. Dynamic Circuits and Classical Control Flow\n",
        "\n",
        "**Explanation:** Qiskit supports dynamic circuits where operations can be conditioned on classical measurement outcomes. The `if_test()` context manager can be used to create conditional blocks where operations are executed based on classical bit values. This allows for powerful classical feed-forward in your quantum programs."
      ]
    },
    {
      "cell_type": "markdown",
      "metadata": {
        "id": "BqykBGJ7sxUs"
      },
      "source": [
        "**Exercise 6:**\n",
        "Write code that performs following functionality:\n",
        "1. Creates a quantum circuit that contains two qubits and at least one classical bit.\n",
        "2. Adds a hadamard gate to the least significant qubit\n",
        "3. Applies an X gate to qubit 1 *only if* a measurement of qubit 0 yields the result `1`. Use the `if_test()` context manager with the appropriate condition tuple.\n",
        "4. Draws the circuit using matplotlib."
      ]
    },
    {
      "cell_type": "code",
      "execution_count": null,
      "metadata": {
        "id": "pYyuApK9sxUs"
      },
      "outputs": [],
      "source": [
        "# Your code here\n"
      ]
    },
    {
      "cell_type": "markdown",
      "metadata": {
        "id": "bz26HxCvsxUs"
      },
      "source": [
        "---"
      ]
    },
    {
      "cell_type": "markdown",
      "metadata": {
        "id": "4Z9ge_vOsxUs"
      },
      "source": [
        "## 7. Visualizing Quantum States and Results\n",
        "\n",
        "**Explanation:** Qiskit offers several functions to visualize results. `plot_histogram(counts)` is used to display measurement outcomes from a simulation or real device run. You can sort the results for easier analysis, for example, by the frequency of the outcomes."
      ]
    },
    {
      "cell_type": "markdown",
      "metadata": {
        "id": "HjCmEiJfsxUs"
      },
      "source": [
        "**Exercise 7:**\n",
        "Write code that performs following functionality:\n",
        "1. Creates a quantum circuit that contains the |Φ+⟩ Bell state.\n",
        "2. Measures the results on classical wires.\n",
        "3. Runs the circuit using the `AerSimulator`.\n",
        "4. Gets the measurement counts.\n",
        "5. Plots a histogram with the bars sorted from the most common outcome to the least common."
      ]
    },
    {
      "cell_type": "code",
      "execution_count": null,
      "metadata": {
        "id": "7N-DRWjwsxUt"
      },
      "outputs": [],
      "source": [
        "# Your code here\n"
      ]
    },
    {
      "cell_type": "markdown",
      "metadata": {
        "id": "YTRCdX_LsxUt"
      },
      "source": [
        "---"
      ]
    },
    {
      "cell_type": "markdown",
      "metadata": {
        "id": "7KS7X1hWsxUx"
      },
      "source": [
        "## 8. Parameterized Quantum Circuits\n",
        "\n",
        "**Explanation:** Qiskit allows circuits with symbolic parameters using the `Parameter` class. These parameters act as placeholders that can be bound to specific numerical values later using the `assign_parameters()` method. This is fundamental for variational algorithms like VQE and QAOA."
      ]
    },
    {
      "cell_type": "markdown",
      "metadata": {
        "id": "1PjfEcsUsxUx"
      },
      "source": [
        "**Exercise 8:**\n",
        "Write code that performs following functionality:\n",
        "1. Creates a `Parameter` instance to represent a parameter named `theta`.\n",
        "2. Creates a quantum circuit `qc` that contains one qubit.\n",
        "3. Adds an RX gate with parameter `theta` to the qubit wire.\n",
        "4. Draws the `qc` circuit.\n",
        "5. Creates a new circuit `bound_qc` by binding the parameter `theta` to the value `π/2`.\n",
        "6. Draws the `bound_qc` circuit."
      ]
    },
    {
      "cell_type": "code",
      "execution_count": null,
      "metadata": {
        "id": "IPjJLmqjsxUx"
      },
      "outputs": [],
      "source": [
        "# Your code here\n"
      ]
    },
    {
      "cell_type": "markdown",
      "metadata": {
        "id": "oacDrbNPsxUy"
      },
      "source": [
        "---"
      ]
    },
    {
      "cell_type": "markdown",
      "metadata": {
        "id": "mtJl_5xHsxUy"
      },
      "source": [
        "## 9. Circuit Transpilation and Optimization\n",
        "\n",
        "**Explanation:** Transpilation adapts a quantum circuit to the constraints of a specific quantum device, including its basis gates and qubit connectivity. The `generate_preset_pass_manager()` function creates a transpilation pass manager with preset configurations. It has several `optimization_level` settings (0-3), where higher levels apply more advanced optimization techniques to reduce circuit depth and gate count, at the cost of longer compilation time."
      ]
    },
    {
      "cell_type": "markdown",
      "metadata": {
        "id": "3BApPuTLsxUy"
      },
      "source": [
        "**Exercise 9:**\n",
        "Write code that performs following functionality:\n",
        "1. Creates a 3-qubit GHZ circuit.\n",
        "2. Transpiles the circuit for the `FakeVigoV2` backend, using the highest level of optimization (level 3).\n",
        "3. Prints the depth of the original circuit.\n",
        "4. Prints the depth of the transpiled circuit.\n",
        "5. Draws the transpiled circuit."
      ]
    },
    {
      "cell_type": "code",
      "execution_count": null,
      "metadata": {
        "id": "vsy-1cVPsxUy"
      },
      "outputs": [],
      "source": [
        "# Your code here\n"
      ]
    },
    {
      "cell_type": "markdown",
      "metadata": {
        "id": "8XsqcPA1sxUy"
      },
      "source": [
        "---"
      ]
    },
    {
      "cell_type": "markdown",
      "metadata": {
        "id": "PL65fgRBsxUy"
      },
      "source": [
        "## 10. Qiskit Runtime Execution Modes\n",
        "\n",
        "**Explanation:** Qiskit Runtime offers three execution modes: **job**, **session**, and **batch**. The execution modes determine how your jobs are scheduled, and choosing the right execution mode allows your workload to run efficiently within your budget."
      ]
    },
    {
      "cell_type": "markdown",
      "metadata": {
        "id": "KUUF6HpGsxUy"
      },
      "source": [
        "**Exercise 10:** This is a conceptual question. In the markdown cell below, explain which execution mode (job, session, or batch) you would use for a Variational Quantum Eigensolver (VQE) algorithm and briefly state why."
      ]
    },
    {
      "cell_type": "markdown",
      "metadata": {
        "id": "vXi1UHRhsxUy"
      },
      "source": [
        "*[Your answer here]*"
      ]
    },
    {
      "cell_type": "markdown",
      "metadata": {
        "id": "id6jApu3sxUy"
      },
      "source": [
        "---"
      ]
    },
    {
      "cell_type": "markdown",
      "metadata": {
        "id": "reyOfqR9sxUy"
      },
      "source": [
        "## 11. Quantum Primitives (Sampler and Estimator)\n",
        "\n",
        "**Explanation:** Primitives are high-level interfaces for common quantum tasks. The **Sampler** and **Estimator** are two key primitives that each serve different purposes when working with quantum circuits. They abstract away the details of execution and error mitigation, making it easier to extract meaningful information from quantum computations."
      ]
    },
    {
      "cell_type": "markdown",
      "metadata": {
        "id": "K3pRUs_6sxUy"
      },
      "source": [
        "**Exercise 11:** This is a conceptual question. In the markdown cell below, describe the fundamental difference between the Sampler and Estimator primitives in a single sentence."
      ]
    },
    {
      "cell_type": "markdown",
      "metadata": {
        "id": "apftI_pHsxUy"
      },
      "source": [
        "*[Your answer here]*"
      ]
    },
    {
      "cell_type": "markdown",
      "metadata": {
        "id": "QLC_Kbp-sxUy"
      },
      "source": [
        "---"
      ]
    },
    {
      "cell_type": "markdown",
      "metadata": {
        "id": "-PaYckpwsxUy"
      },
      "source": [
        "## 12. Using the Sampler Primitive\n",
        "\n",
        "**Explanation:** In Qiskit 2, you can use the `Sampler` primitive from `qiskit_ibm_runtime` with local simulators like `AerSimulator`. Here you'll initialize a `Sampler` with a backend mode, transpile your circuit using `generate_preset_pass_manager`, then use the `.run([circuits], shots=...)` method. The result object contains measurement data accessible via the classical register names."
      ]
    },
    {
      "cell_type": "markdown",
      "metadata": {
        "id": "pOzBRxObsxUy"
      },
      "source": [
        "**Exercise 12:**\n",
        "Write code that performs following functionality:\n",
        "1. Creates a quantum circuit that contains the |Φ+⟩ Bell state.\n",
        "2. Uses the `measure_all` method to measure the results.\n",
        "3. Transpiles the circuit using the `AerSimulator` backend.\n",
        "4. Initializes the `Sampler` primitive with the `AerSimulator` backend\n",
        "5. Runs the Sampler.\n",
        "6. Gets the measurement counts.\n",
        "7. Prints the measurement counts.\n"
      ]
    },
    {
      "cell_type": "code",
      "execution_count": null,
      "metadata": {
        "id": "4fmQxymusxUy"
      },
      "outputs": [],
      "source": [
        "# Your code here\n"
      ]
    },
    {
      "cell_type": "markdown",
      "metadata": {
        "id": "RB3wcFFYsxUz"
      },
      "source": [
        "---"
      ]
    },
    {
      "cell_type": "markdown",
      "metadata": {
        "id": "TwkbyxVDsxUz"
      },
      "source": [
        "## 13. Using the Estimator Primitive\n",
        "\n",
        "**Explanation:** In Qiskit 2, you can use the `Estimator` primitive from `qiskit_ibm_runtime` with local simulators like `AerSimulator`. The `Estimator` computes expectation values ⟨ψ|O|ψ⟩. Here you'll initialize an `Estimator` with a backend mode, transpile your circuit using `generate_preset_pass_manager`, apply the observable to the circuit layout, then use the `.run([(circuit, observable)])` method. The result object contains expectation values accessible via `data.evs`."
      ]
    },
    {
      "cell_type": "markdown",
      "metadata": {
        "id": "SXgnN1FNsxUz"
      },
      "source": [
        "**Exercise 13:**\n",
        "Write code that performs following functionality:\n",
        "1. Creates a quantum circuit that contains the |Φ+⟩ Bell state.\n",
        "2. Defines the ZZ observable using `SparsePauliOp`\n",
        "3. Transpiles the circuit using the `AerSimulator` backend.\n",
        "4. Applies the observable to the circuit layout\n",
        "5. Initializes the `Estimator` primitive with the `AerSimulator` backend.\n",
        "6. Runs the Estimator.\n",
        "4. Gets the PUB result.\n",
        "5. Retrieves and prints the expectation value."
      ]
    },
    {
      "cell_type": "code",
      "execution_count": null,
      "metadata": {
        "id": "PHDsTqlgsxUz"
      },
      "outputs": [],
      "source": [
        "# Your code here\n"
      ]
    },
    {
      "cell_type": "markdown",
      "metadata": {
        "id": "q8lfXhd0sxUz"
      },
      "source": [
        "---"
      ]
    },
    {
      "cell_type": "markdown",
      "metadata": {
        "id": "0t5hD7-QsxUz"
      },
      "source": [
        "## 14. Error Mitigation Techniques\n",
        "\n",
        "**Explanation:** Qiskit provides techniques to reduce the impact of noise on quantum hardware. **Readout error mitigation** corrects for errors in the final measurement step. **Dynamical Decoupling (DD)** inserts pulse sequences during idle times to protect qubits from decoherence. **Zero-Noise Extrapolation (ZNE)** runs circuits at different noise levels and extrapolates the result back to the zero-noise limit."
      ]
    },
    {
      "cell_type": "markdown",
      "metadata": {
        "id": "rDYLqEPisxUz"
      },
      "source": [
        "**Exercise 14:** This is a conceptual question. You are running a circuit on a noisy backend and suspect that the qubits are losing their quantum state (decohering) during idle periods in the circuit. Which error *suppression* technique would be most appropriate to apply?"
      ]
    },
    {
      "cell_type": "markdown",
      "metadata": {
        "id": "FTkbVqPHsxUz"
      },
      "source": [
        "*[Your answer here]*"
      ]
    },
    {
      "cell_type": "markdown",
      "metadata": {
        "id": "Kf7105rSsxUz"
      },
      "source": [
        "---"
      ]
    },
    {
      "cell_type": "markdown",
      "metadata": {
        "id": "4bB91-FdsxUz"
      },
      "source": [
        "## 15. OpenQASM 3 Basics\n",
        "\n",
        "**Explanation:** OpenQASM 3 is the latest version of the quantum assembly language. It has a more expressive syntax than its predecessor. For example, you declare a register of three qubits with `qubit[3] my_qubits;` and a classical bit register with `bit[2] c;`."
      ]
    },
    {
      "cell_type": "markdown",
      "metadata": {
        "id": "npyWyr8RsxUz"
      },
      "source": [
        "**Exercise 15:** Complete the OpenQASM 3 string below to create a Bell state between `q[0]` and `q[1]`."
      ]
    },
    {
      "cell_type": "code",
      "execution_count": null,
      "metadata": {
        "id": "ZyaVHqTWsxUz"
      },
      "outputs": [],
      "source": [
        "qasm3_string = '''\n",
        "OPENQASM 3.0;\n",
        "include \"stdgates.inc\";\n",
        "qubit[2] q;\n",
        "bit[2] c;\n",
        "// Your code here (2 lines)\n",
        "\n",
        "c = measure q;\n",
        "'''\n",
        "\n",
        "print(qasm3_string)"
      ]
    },
    {
      "cell_type": "markdown",
      "metadata": {
        "id": "ksL17YwPsxUz"
      },
      "source": [
        "---"
      ]
    },
    {
      "cell_type": "markdown",
      "metadata": {
        "id": "tWKvhmP-sxUz"
      },
      "source": [
        "## 16. OpenQASM 3 vs OpenQASM 2 – New Features\n",
        "\n",
        "**Explanation:** OpenQASM 3 introduced significant improvements over OpenQASM 2, most notably expanding beyond simple gate-based circuits. A major enhancement involves programming constructs that allow quantum programs to make decisions and repeat operations based on classical data and measurement outcomes, enabling more dynamic and adaptive quantum algorithms."
      ]
    },
    {
      "cell_type": "markdown",
      "metadata": {
        "id": "jkG5nNxHsxUz"
      },
      "source": [
        "**Exercise 16:** This is a conceptual question. What is a major feature related to classical logic that is present in OpenQASM 3 but completely absent in OpenQASM 2?"
      ]
    },
    {
      "cell_type": "markdown",
      "metadata": {
        "id": "osm9n7vAsxUz"
      },
      "source": [
        "*[Your answer here]*"
      ]
    },
    {
      "cell_type": "markdown",
      "metadata": {
        "id": "yade6IK8sxU0"
      },
      "source": [
        "---"
      ]
    },
    {
      "cell_type": "markdown",
      "metadata": {
        "id": "ok4NJ6TdsxU0"
      },
      "source": [
        "## 17. Interfacing OpenQASM with Qiskit\n",
        "\n",
        "**Explanation:** Qiskit provides tools to convert between `QuantumCircuit` objects and OpenQASM 3 strings. To import an OpenQASM 3 string into a Qiskit circuit, you can use the `qiskit.qasm3.loads()` function."
      ]
    },
    {
      "cell_type": "markdown",
      "metadata": {
        "id": "7ogk0zgHsxU0"
      },
      "source": [
        "**Exercise 17:** Using the OpenQASM 3 string you created in Exercise 15, write the Python code to:\n",
        "1. Convert it into a Qiskit `QuantumCircuit` object named `qc_from_qasm`.\n",
        "2. Draw the circuit"
      ]
    },
    {
      "cell_type": "code",
      "execution_count": null,
      "metadata": {
        "id": "X3MipQHNsxU0"
      },
      "outputs": [],
      "source": [
        "qasm3_string_for_import = '''\n",
        "OPENQASM 3.0;\n",
        "include \"stdgates.inc\";\n",
        "qubit[2] q;\n",
        "bit[2] c;\n",
        "h q[0];\n",
        "cx q[0], q[1];\n",
        "c = measure q;\n",
        "'''\n",
        "\n",
        "# Your code here\n"
      ]
    },
    {
      "cell_type": "markdown",
      "metadata": {
        "id": "WXQhq5gOsxU0"
      },
      "source": [
        "---"
      ]
    },
    {
      "cell_type": "markdown",
      "metadata": {
        "id": "hpZJo12IsxU0"
      },
      "source": [
        "## 18. Qiskit IBM Runtime API\n",
        "\n",
        "**Explanation:** Modern quantum applications often need to integrate quantum computations into broader software workflows. IBM Quantum provides cloud-based services that can be accessed programmatically from various programming environments beyond Python. Proper authentication credentials are required to access these services."
      ]
    },
    {
      "cell_type": "markdown",
      "metadata": {
        "id": "E2JuM14esxU0"
      },
      "source": [
        "**Exercise 18:** This is a conceptual question. You are building a web application backend using Node.js, Go, or another non-Python language, and you need to submit quantum jobs to IBM's quantum computers. What approach would you use to access IBM's quantum computing services programmatically, and what is the most important piece of information you would need to authenticate your requests?"
      ]
    },
    {
      "cell_type": "markdown",
      "metadata": {
        "id": "OM5UtOW4sxU0"
      },
      "source": [
        "*[Your answer here]*"
      ]
    },
    {
      "cell_type": "markdown",
      "metadata": {
        "id": "8fA7a5M9Q9-P"
      },
      "source": [
        "---"
      ]
    },
    {
      "cell_type": "markdown",
      "metadata": {
        "id": "N6M-7CgzQy0r"
      },
      "source": [
        "## 19. Running on real IBM Quantum hardware\n",
        "\n",
        "**Explanation:** In a previous exercise, you used the `Sampler` primitive from `qiskit_ibm_runtime` with the `AerSimulator` local simulator. Here you'll run the `Sampler` primitive on a real IBM Quantum computer."
      ]
    },
    {
      "cell_type": "markdown",
      "metadata": {
        "id": "0mNK5DaZRU2y"
      },
      "source": [
        "**Exercise 19:**\n",
        "Edit the code below in the following way:\n",
        "1. Comment out the following line:\n",
        "```\n",
        "backend = AerSimulator()\n",
        "```\n",
        "2. Add the following lines immediately after:\n",
        "```\n",
        "service = QiskitRuntimeService(name=\"fallfest-2025\")\n",
        "backend = service.least_busy(operational=True, simulator=False)\n",
        "```\n"
      ]
    },
    {
      "cell_type": "code",
      "execution_count": null,
      "metadata": {
        "id": "eWzaP9rkRTE4"
      },
      "outputs": [],
      "source": [
        "# your_api_key = \"deleteThisAndPasteYourAPIKeyHere\"\n",
        "# your_crn = \"deleteThisAndPasteYourCRNHere\"\n",
        "\n",
        "# QiskitRuntimeService.save_account(\n",
        "#     channel=\"ibm_quantum_platform\",\n",
        "#     token=your_api_key,\n",
        "#     instance=your_crn,\n",
        "#     name=\"fallfest-2025\",\n",
        "# )\n",
        "\n",
        "# Check that the account has been saved properly\n",
        "# service = QiskitRuntimeService(name=\"fallfest-2025\")\n",
        "# print(service.saved_accounts())\n",
        "\n",
        "bell = QuantumCircuit(2)\n",
        "bell.h(0)\n",
        "bell.cx(0, 1)\n",
        "bell.measure_all()\n",
        "\n",
        "backend = AerSimulator()\n",
        "\n",
        "pm = generate_preset_pass_manager(backend=backend, optimization_level=1)\n",
        "isa_bell = pm.run(bell)\n",
        "\n",
        "sampler = Sampler(mode=backend)\n",
        "\n",
        "job = sampler.run([isa_bell], shots=5000)\n",
        "result = job.result()\n",
        "\n",
        "counts = result[0].data.meas.get_counts()\n",
        "print(f'Measurement counts: {counts}')"
      ]
    }
  ],
  "metadata": {
    "colab": {
      "provenance": []
    },
    "kernelspec": {
      "display_name": "Python 3",
      "language": "python",
      "name": "python3"
    },
    "language_info": {
      "codemirror_mode": {
        "name": "ipython",
        "version": 3
      },
      "file_extension": ".py",
      "mimetype": "text/x-python",
      "name": "python",
      "nbconvert_exporter": "python",
      "pygments_lexer": "ipython3",
      "version": "3.11.3"
    }
  },
  "nbformat": 4,
  "nbformat_minor": 0
}
